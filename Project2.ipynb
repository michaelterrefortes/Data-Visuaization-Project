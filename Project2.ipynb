{
 "cells": [
  {
   "cell_type": "markdown",
   "id": "2a56e3ad",
   "metadata": {},
   "source": [
    "# Michael H. Terrefortes Rosado\n",
    "# CCOM6995\n",
    "## Data visualization final project\n",
    "### Description: Allow user to binarize a gene expression dataset and interact with the process. "
   ]
  },
  {
   "cell_type": "markdown",
   "id": "fb5c34b5",
   "metadata": {},
   "source": [
    "# Code for BASC A algorithm"
   ]
  },
  {
   "cell_type": "code",
   "execution_count": 1,
   "id": "b3eb9aaf",
   "metadata": {},
   "outputs": [],
   "source": [
    "from dash import Dash, dash_table, dcc, html, Input, Output, callback\n",
    "import pandas as pd\n",
    "import numpy as np\n",
    "import plotly.graph_objects as go\n",
    "import math\n",
    "import matplotlib as plt\n",
    "\n",
    "def Y_a_b(genes, a, b):\n",
    "  return np.mean(genes[a:b])\n",
    "\n",
    "def C_a_b(genes, a, b):\n",
    "  mean = Y_a_b(genes, a, b+1)\n",
    "  return sum( (np.array(genes[a:b+1]) - mean) ** 2 )\n",
    "\n",
    "def determine_h(P, i, j, genes):\n",
    "  N = len(genes)\n",
    "\n",
    "  if (i == 0 and j > 0):\n",
    "    return Y_a_b(genes, P[i][j], P[i+1][j]) - Y_a_b(genes, 0, P[i][j]);\n",
    "  elif (i == j and j > 0):\n",
    "    return Y_a_b(genes, P[i][j], N) - Y_a_b(genes, P[i-1][j], P[i][j]);\n",
    "  elif (i == 0 and j == 0):\n",
    "    return Y_a_b(genes, P[i][j], N) - Y_a_b(genes, 0, P[i][j]);\n",
    "  else:\n",
    "    return Y_a_b(genes, P[i][j], P[i+1][j]) - Y_a_b(genes, P[i-1][j], P[i][j]);\n",
    "\n",
    "def BASC_A(gene):\n",
    "    gene_og = gene\n",
    "    gene = np.sort(gene)\n",
    "    N = len(gene)\n",
    "\n",
    "    cost_matrix = [[0 for _ in range(N - 1)] for _ in range(N)]\n",
    "    ind_matrix = [[0 for _ in range(N - 2)] for _ in range(N - 1)]\n",
    "    P = [[0 for _ in range(N - 2)] for _ in range(N - 2)]\n",
    "\n",
    "    # Step 1: Compute a Series of Step Function\n",
    "\n",
    "    # initialization C_i_(0) = c_i_N\n",
    "    # calculate first cost matrix column with no intermidiate break points\n",
    "    for i in range(N):\n",
    "      cost_matrix[i][0] = C_a_b(gene, i, N)\n",
    "\n",
    "    # Algorithm 1: Calculate optimal step functions\n",
    "    for j in range(N-2):\n",
    "      for i in range(N-j-1):\n",
    "        min_value = math.inf\n",
    "        min_index = math.inf\n",
    "\n",
    "        for d in range(N-j-1):\n",
    "          curr_value = C_a_b(gene, i, d) + cost_matrix[d+1][j]\n",
    "\n",
    "          if(curr_value < min_value):\n",
    "            min_value = curr_value\n",
    "            min_index = d\n",
    "\n",
    "        cost_matrix[i][j+1] = min_value\n",
    "        ind_matrix[i][j] = min_index + 1\n",
    "\n",
    "    #  Algorithm 2: Compute the break points of all optimal step functions\n",
    "    for j in range(N-2):\n",
    "      z = j\n",
    "      P[0][j] = ind_matrix[0][z]\n",
    "      if(j > 0):\n",
    "        z = z - 1\n",
    "        for i in range(1, j+1):\n",
    "          P[i][j] = ind_matrix[P[i-1][j]][z]\n",
    "          z = z - 1\n",
    "\n",
    "    # Step 2: Find Strongest Discontinuity in Each Step Function\n",
    "    v = [0] * (N-2)\n",
    "\n",
    "    for j in range(N-2):\n",
    "      max_value = -math.inf\n",
    "      max_index = j\n",
    "      for i in range(j+1):\n",
    "        h = determine_h(P, i, j, gene)\n",
    "        z = (gene[P[i][j]] + gene[P[i][j]-1]) / 2\n",
    "        e = sum( (np.array(gene) - z) ** 2 )\n",
    "        q_score = h / e\n",
    "        if(q_score > max_value):\n",
    "          max_value = q_score\n",
    "          max_index = i\n",
    "\n",
    "      v[j] = P[max_index][j]\n",
    "\n",
    "    # Step 3: Estimate Location and Variation of the Strongest Discontinuities\n",
    "    thr = (gene[round(np.median(v))-1] + gene[round(np.median(v))]) / 2\n",
    "\n",
    "    return thr\n"
   ]
  },
  {
   "cell_type": "markdown",
   "id": "15a6d4c2",
   "metadata": {},
   "source": [
    "# Code for K-means"
   ]
  },
  {
   "cell_type": "code",
   "execution_count": 2,
   "id": "60ba7e74",
   "metadata": {},
   "outputs": [],
   "source": [
    "from sklearn.cluster import KMeans\n",
    "\n",
    "def K_Means(genes):\n",
    "    data = np.array(genes).reshape(-1, 1)\n",
    "    kmeans = KMeans(n_clusters=2)\n",
    "    kmeans.fit(data)\n",
    "    c=kmeans.labels_\n",
    "    genes = np.array(genes)\n",
    "    groupOne = genes[c==1]\n",
    "    groupZero = genes[c==0]\n",
    "    \n",
    "    thr1 = np.mean(groupOne)\n",
    "    thr2 = np.mean(groupZero)\n",
    "    \n",
    "    thr = (thr1 + thr2) / 2\n",
    "\n",
    "    return thr"
   ]
  },
  {
   "cell_type": "markdown",
   "id": "12447a69",
   "metadata": {},
   "source": [
    "# Code for Stepminer"
   ]
  },
  {
   "cell_type": "code",
   "execution_count": 3,
   "id": "d80b5ef2",
   "metadata": {},
   "outputs": [],
   "source": [
    "def getSSTOT(x, n, xmean):\n",
    "    m = 0\n",
    "    for i in range(n):\n",
    "        m = m + (x[i] - xmean)**2\n",
    "    return m\n",
    "\n",
    "\n",
    "def onestep(x):\n",
    "    \n",
    "    n = len(x)\n",
    "    #step = 0\n",
    "    xmean = np.mean(x)\n",
    "    SSTOT = getSSTOT(x, n, xmean)\n",
    "    \n",
    "    SSEmin = SSTOT\n",
    "    \n",
    "    for i in range(n-1):\n",
    "        leftMean = np.mean(x[0:i+1])\n",
    "    \n",
    "        rightMean = np.mean(x[i+1:n])\n",
    "        \n",
    "        SSE = 0\n",
    "        \n",
    "        for j in range(n):\n",
    "            if j < i+1:\n",
    "                SSE = SSE + (x[j] - leftMean)**2\n",
    "            else:\n",
    "                SSE = SSE + (x[j] - rightMean)**2\n",
    "                    \n",
    "        \n",
    "        if SSEmin > SSE:\n",
    "            SSEmin = SSE\n",
    "            #print(\"1:\",SSEmin1)\n",
    "                \n",
    "            t = (leftMean + rightMean)/2\n",
    "    \n",
    "    \n",
    "    \n",
    "    return t"
   ]
  },
  {
   "cell_type": "markdown",
   "id": "b6b865bf",
   "metadata": {},
   "source": [
    "# Code for Shmulevich"
   ]
  },
  {
   "cell_type": "code",
   "execution_count": 4,
   "id": "9e154f83",
   "metadata": {},
   "outputs": [],
   "source": [
    "def binarize(x):\n",
    "    \n",
    "    n = len(x)\n",
    "    s = np.sort(x)\n",
    "    d = np.empty(n)\n",
    "    \n",
    "    for i in range(n-2):\n",
    "        d[i] = s[i+1] - s[i]\n",
    "    \n",
    "    t = (s[n-1] - s[0])/(n-1)\n",
    "    \n",
    "    mn = s[n-1]\n",
    "    index = 0\n",
    "    \n",
    "    for i in range(n-1):\n",
    "        if d[i] > t and d[i] < mn:\n",
    "            mn = d[i]\n",
    "            index = i\n",
    "            \n",
    "    z = s[index + 1]\n",
    "   \n",
    "    \n",
    "    return z"
   ]
  },
  {
   "cell_type": "markdown",
   "id": "3a1a0d52",
   "metadata": {},
   "source": [
    "# Code for Dashboard "
   ]
  },
  {
   "cell_type": "code",
   "execution_count": 21,
   "id": "f52e30eb",
   "metadata": {
    "scrolled": false
   },
   "outputs": [
    {
     "data": {
      "text/html": [
       "\n",
       "        <iframe\n",
       "            width=\"100%\"\n",
       "            height=\"650\"\n",
       "            src=\"http://127.0.0.1:8050/\"\n",
       "            frameborder=\"0\"\n",
       "            allowfullscreen\n",
       "            \n",
       "        ></iframe>\n",
       "        "
      ],
      "text/plain": [
       "<IPython.lib.display.IFrame at 0x2b1191750>"
      ]
     },
     "metadata": {},
     "output_type": "display_data"
    }
   ],
   "source": [
    "df = pd.read_csv('HIVIn(Matlab).csv')\n",
    "\n",
    "app = Dash(__name__)\n",
    "\n",
    "app.layout = html.Div([\n",
    "    dash_table.DataTable(\n",
    "        id='datatable-interactivity',\n",
    "        columns=[\n",
    "            {\"name\": i, \"id\": i} for i in df.columns\n",
    "        ],\n",
    "        data=df.to_dict('records'),\n",
    "        column_selectable=\"single\",\n",
    "        row_selectable=\"multi\",\n",
    "        selected_columns=[],\n",
    "        selected_rows=[],\n",
    "        page_action=\"native\",\n",
    "        page_current= 0,\n",
    "        page_size= 10,\n",
    "    ),\n",
    "    dcc.Dropdown(\n",
    "                [{'label': 'Binarize All Genes', 'value':'all'}],\n",
    "                placeholder=\"Select to binarize all genes and get thresholds\",\n",
    "                id=\"dropdown-binarize-all\",\n",
    "                searchable=False),\n",
    "    html.Div(id='binarize-all'),\n",
    "    html.Div(id='dropdown-methods'),\n",
    "    html.Div(id='heatmap-binarize'),\n",
    "    html.Div(id='select-gene-binarize'),\n",
    "    html.Div(id='graph-gene-binarize'),\n",
    "    html.Div(id='select-basc-discontinuity'),\n",
    "    html.Div(id='graph-gene-discontinuity')\n",
    "])\n",
    "\n",
    "@app.callback(\n",
    "    Output('binarize-all', 'children'),\n",
    "    Input('dropdown-binarize-all', 'value'))\n",
    "def binarize_all(all_rows):\n",
    "    if all_rows is None:\n",
    "        return 'Select option in order to show all the thresholds by each algorithm of each gene'\n",
    "    genes = df.values\n",
    "    rows = df.shape[0]\n",
    "    \n",
    "    col_names = {'basc_thr':[], 'kmeans_thr':[], 'onestep_thr':[], 'shmulevich_thr':[]}\n",
    "    final_df = pd.DataFrame(col_names)\n",
    "    \n",
    "    for i in range(rows):\n",
    "            k_means = K_Means(genes[i])\n",
    "            basc_a = BASC_A(genes[i])\n",
    "            one_step = onestep(genes[i])\n",
    "            shmulevich = binarize(genes[i])\n",
    "            \n",
    "            new_row = {'basc_thr':basc_a, 'kmeans_thr':k_means, 'onestep_thr':one_step, 'shmulevich_thr': shmulevich}\n",
    "            final_df.loc[len(final_df)] = new_row\n",
    "        \n",
    "    return dash_table.DataTable(final_df.to_dict('records'), [{\"name\": i, \"id\": i} for i in final_df.columns],\n",
    "                               page_size= 10)\n",
    "    \n",
    "            \n",
    "\n",
    "@app.callback(\n",
    "    Output('dropdown-methods', 'children'),\n",
    "    Input('datatable-interactivity', 'selected_rows'))\n",
    "def display_selected_data(selected_rows):\n",
    "    if not selected_rows:\n",
    "        return 'No selected rows'\n",
    "    return dcc.Dropdown(\n",
    "                ['All','BASC A', 'K-Means'],\n",
    "                placeholder=\"Select binarization method\",\n",
    "                id=\"dropdown-method\",\n",
    "                searchable=False)\n",
    "\n",
    "@app.callback(\n",
    "    Output('heatmap-binarize', 'children'),\n",
    "    Input('dropdown-method', 'value'),\n",
    "    Input('datatable-interactivity', 'selected_rows'), prevent_initial_call=True)\n",
    "def heatmap_binarize(selected_method, selected_rows):\n",
    "    if selected_rows is None:\n",
    "        return \"No selected rows\"\n",
    "    if selected_method is None:\n",
    "        return \"No method selected\"\n",
    "    \n",
    "    #selected = df.iloc[selected_rows]\n",
    "    #gene = selected.values\n",
    "    #sizeGene = len(gene)\n",
    "    \n",
    "    if(selected_method == \"K-Means\"):\n",
    "        binarize_vect = []\n",
    "        labels = []\n",
    "\n",
    "        for row in selected_rows:\n",
    "            selected = df.iloc[row]\n",
    "            gene = selected.values\n",
    "            sizeGene = len(gene)\n",
    "            binarize = []\n",
    "            labels.append(\"Gene \" + str(row))\n",
    "            thr = K_Means(gene)\n",
    "\n",
    "            for j in range(sizeGene):\n",
    "                if(gene[j] <= thr):\n",
    "                    binarize.append(0) \n",
    "                else:\n",
    "                    binarize.append(1)     \n",
    "\n",
    "            binarize_vect.append(binarize) \n",
    "            \n",
    "        selected = df.iloc[selected_rows]\n",
    "        genes = selected.values\n",
    "        \n",
    "        data = go.Figure(data=go.Heatmap(\n",
    "                    z=genes,\n",
    "                    y = labels,\n",
    "                    text=binarize_vect,\n",
    "                    texttemplate=\"%{text}\",\n",
    "                    textfont={\"size\":20}))\n",
    "            \n",
    "        return dcc.Graph(figure=data)\n",
    "        \n",
    "    elif(selected_method == \"BASC A\"):   \n",
    "        binarize_vect = []\n",
    "        labels = []\n",
    "\n",
    "        for row in selected_rows:\n",
    "            selected = df.iloc[row]\n",
    "            gene = selected.values\n",
    "            sizeGene = len(gene)\n",
    "            binarize = []\n",
    "            labels.append(\"Gene \" + str(row))\n",
    "            thr = BASC_A(gene)\n",
    "\n",
    "            for j in range(sizeGene):\n",
    "                if(gene[j] <= thr):\n",
    "                    binarize.append(0) \n",
    "                else:\n",
    "                    binarize.append(1)     \n",
    "\n",
    "            binarize_vect.append(binarize) \n",
    "            \n",
    "        selected = df.iloc[selected_rows]\n",
    "        genes = selected.values\n",
    "        \n",
    "        data = go.Figure(data=go.Heatmap(\n",
    "                    z=genes,\n",
    "                    y = labels,\n",
    "                    text=binarize_vect,\n",
    "                    texttemplate=\"%{text}\",\n",
    "                    textfont={\"size\":20}))\n",
    "            \n",
    "        return dcc.Graph(figure=data)\n",
    "        \n",
    "\n",
    "@app.callback(\n",
    "    Output('select-gene-binarize', 'children'),\n",
    "    Input('dropdown-method', 'value'),\n",
    "    Input('datatable-interactivity', 'selected_rows'), prevent_initial_call=True)\n",
    "def select_gene_binarize(selected_method, selected_rows):\n",
    "    if selected_method is None:\n",
    "        return \"No method selected\"\n",
    "\n",
    "    if not selected_rows:\n",
    "        return \"No selected rows\"\n",
    "\n",
    "    return dcc.Dropdown(\n",
    "        options=[{'label': 'Gene ' + str(row+1), 'value': row} for row in selected_rows],\n",
    "        placeholder=\"Select rows\",\n",
    "        id=\"dropdown-selected-rows\")\n",
    "\n",
    "@app.callback(\n",
    "    Output('graph-gene-binarize', 'children'),\n",
    "    Input('dropdown-method', 'value'),\n",
    "    Input('dropdown-selected-rows', 'value'), prevent_initial_call=True)\n",
    "def graph_gene_algorithm(selected_method, selected_gene):\n",
    "    if not selected_gene:\n",
    "        return 'No specific gene was selected'\n",
    "    \n",
    "    selected = df.iloc[selected_gene]\n",
    "    gene = selected.values\n",
    "    sizeGene = len(gene)\n",
    "    \n",
    "    if(selected_method == 'BASC A'):\n",
    "        thr = BASC_A(gene)\n",
    "        data = go.Figure(go.Scatter(x=np.arange(1,sizeGene+1), y=gene, name=\"Gene \"+ str(selected_gene+1)))\n",
    "        data.add_hline(y=thr, line_width=3, line_dash=\"dash\", line_color=\"green\")\n",
    "        return dcc.Graph(figure=data)\n",
    "        \n",
    "    elif(selected_method == 'K-Means'):\n",
    "        thr = K_Means(gene)\n",
    "        data = go.Figure(go.Scatter(x=np.arange(1,sizeGene+1), y=gene, name=\"Gene \"+ str(selected_gene+1)))\n",
    "        data.add_hline(y=thr, line_width=3, line_dash=\"dash\", line_color=\"green\")\n",
    "        \n",
    "        data2 = go.Figure(go.Scatter(x=gene, y=np.ones(sizeGene, dtype=int),mode = 'markers'))\n",
    "        data2.add_vline(x=thr, line_width=3, line_dash=\"dash\", line_color=\"green\")\n",
    "        return [dcc.Graph(figure=data), dcc.Graph(figure=data2)]\n",
    "    \n",
    "@app.callback(\n",
    "    Output('select-basc-discontinuity', 'children'),\n",
    "    Input('dropdown-method', 'value'),\n",
    "    Input('dropdown-selected-rows', 'value'), prevent_initial_call=True)\n",
    "def select_basc_discontinuity(selected_method, selected_gene):\n",
    "    if selected_method is None:\n",
    "        return \"No method selected\"\n",
    "\n",
    "    if not selected_gene:\n",
    "        return \"No selected row for discontinuity\"\n",
    "    \n",
    "    if(selected_method == 'BASC A'):\n",
    "    \n",
    "        selected = df.iloc[selected_gene]\n",
    "        gene = selected.values\n",
    "        sizeGene = len(gene)\n",
    "        \n",
    "        options = [{'label':'All','value':0}]\n",
    "        for i in range(sizeGene):\n",
    "            options.append({'label':'Discontinuity ' + str(i+1), 'value': i+1})\n",
    "            \n",
    "        return dcc.Dropdown(\n",
    "            options=options,\n",
    "            placeholder=\"Select discontinuity\",\n",
    "            id=\"dropdown-selected-discontinuity\", value=0)\n",
    "    \n",
    "@app.callback(\n",
    "    Output('graph-gene-discontinuity', 'children'),\n",
    "    Input('dropdown-selected-rows', 'value'),\n",
    "    Input('dropdown-selected-discontinuity', 'value'), prevent_initial_call=True)\n",
    "def graph_discontinuity(selected_gene, selected_discontinuity):\n",
    "    if selected_discontinuity is None:\n",
    "        return \"No discontinuity selected\"\n",
    "\n",
    "    if not selected_gene:\n",
    "        return \"No selected row for discontinuity\"\n",
    "    \n",
    "    selected = df.iloc[selected_gene]\n",
    "    gene = selected.values\n",
    "    sizeGene = len(gene)\n",
    "    \n",
    "    if(selected_discontinuity > 0):\n",
    "            return 'todavia'\n",
    "    else:\n",
    "        x = np.arange(1,sizeGene+1)\n",
    "        y = gene\n",
    "        x_dis = []\n",
    "        y_dis = []\n",
    "        for i in range(len(x)):\n",
    "                x_dis.append(i)\n",
    "                x_dis.append(i+1)\n",
    "                x_dis.append(None)\n",
    "                y_dis.append(y[i])\n",
    "                y_dis.append(y[i])\n",
    "                y_dis.append(None)\n",
    "            \n",
    "        data2 = go.Figure(go.Scatter(x=x_dis, y=y_dis))\n",
    "        return dcc.Graph(figure=data2)\n",
    "        \n",
    "\n",
    "if __name__ == '__main__':\n",
    "    app.run_server(debug=True)"
   ]
  },
  {
   "cell_type": "markdown",
   "id": "ec486789",
   "metadata": {},
   "source": [
    "# Code example"
   ]
  },
  {
   "cell_type": "code",
   "execution_count": 7,
   "id": "d7d17eda",
   "metadata": {},
   "outputs": [
    {
     "data": {
      "text/plain": [
       "0.4325"
      ]
     },
     "execution_count": 7,
     "metadata": {},
     "output_type": "execute_result"
    }
   ],
   "source": [
    "gene = [0.22,0.29,0.1,0.13,0.8,0.9,0.22,0.85,0.81,0.5]\n",
    "onestep(gene)"
   ]
  },
  {
   "cell_type": "code",
   "execution_count": 8,
   "id": "dff0d3bc",
   "metadata": {},
   "outputs": [
    {
     "name": "stderr",
     "output_type": "stream",
     "text": [
      "/Users/mterrefortes/miniconda3/lib/python3.10/site-packages/numpy/core/fromnumeric.py:3464: RuntimeWarning:\n",
      "\n",
      "Mean of empty slice.\n",
      "\n",
      "/Users/mterrefortes/miniconda3/lib/python3.10/site-packages/numpy/core/_methods.py:192: RuntimeWarning:\n",
      "\n",
      "invalid value encountered in scalar divide\n",
      "\n"
     ]
    },
    {
     "data": {
      "text/plain": [
       "0.65"
      ]
     },
     "execution_count": 8,
     "metadata": {},
     "output_type": "execute_result"
    }
   ],
   "source": [
    "BASC_A(gene)"
   ]
  },
  {
   "cell_type": "code",
   "execution_count": 9,
   "id": "5d556113",
   "metadata": {},
   "outputs": [
    {
     "name": "stderr",
     "output_type": "stream",
     "text": [
      "/Users/mterrefortes/miniconda3/lib/python3.10/site-packages/sklearn/cluster/_kmeans.py:870: FutureWarning:\n",
      "\n",
      "The default value of `n_init` will change from 10 to 'auto' in 1.4. Set the value of `n_init` explicitly to suppress the warning\n",
      "\n"
     ]
    },
    {
     "data": {
      "text/plain": [
       "0.5416666666666667"
      ]
     },
     "execution_count": 9,
     "metadata": {},
     "output_type": "execute_result"
    }
   ],
   "source": [
    "K_Means(gene)"
   ]
  },
  {
   "cell_type": "code",
   "execution_count": 10,
   "id": "4d1d3d78",
   "metadata": {},
   "outputs": [
    {
     "data": {
      "text/plain": [
       "0.22"
      ]
     },
     "execution_count": 10,
     "metadata": {},
     "output_type": "execute_result"
    }
   ],
   "source": [
    "binarize(gene)"
   ]
  },
  {
   "cell_type": "code",
   "execution_count": 11,
   "id": "059c8cd6",
   "metadata": {},
   "outputs": [
    {
     "name": "stderr",
     "output_type": "stream",
     "text": [
      "/Users/mterrefortes/miniconda3/lib/python3.10/site-packages/sklearn/cluster/_kmeans.py:870: FutureWarning:\n",
      "\n",
      "The default value of `n_init` will change from 10 to 'auto' in 1.4. Set the value of `n_init` explicitly to suppress the warning\n",
      "\n"
     ]
    }
   ],
   "source": [
    "gene = [[0.22,0.29,0.1,0.13,0.8,0.9,0.22,0.85,0.81,0.5]]\n",
    "\n",
    "binarize = np.zeros(len(gene[0]), dtype = int)\n",
    "binarize_vect = []\n",
    "                    \n",
    "for i in range(len(gene)):\n",
    "    thr = K_Means(gene[i])\n",
    "    #print(thr)\n",
    "    for j in range(len(gene[i])):\n",
    "        if(gene[i][j] <= thr):\n",
    "           binarize[j] = 0 \n",
    "        else:\n",
    "           binarize[j] = 1      \n",
    "            \n",
    "    binarize_vect.append(binarize)      "
   ]
  },
  {
   "cell_type": "code",
   "execution_count": 12,
   "id": "8745c140",
   "metadata": {},
   "outputs": [
    {
     "data": {
      "text/plain": [
       "[array([0, 0, 0, 0, 1, 1, 0, 1, 1, 0])]"
      ]
     },
     "execution_count": 12,
     "metadata": {},
     "output_type": "execute_result"
    }
   ],
   "source": [
    "binarize_vect"
   ]
  },
  {
   "cell_type": "code",
   "execution_count": 18,
   "id": "446eeb1d",
   "metadata": {},
   "outputs": [],
   "source": [
    "selected = df.iloc[5]\n",
    "gene = selected.values"
   ]
  },
  {
   "cell_type": "code",
   "execution_count": 19,
   "id": "c3b521af",
   "metadata": {},
   "outputs": [
    {
     "data": {
      "text/plain": [
       "array([2059.7 , 2048.82, 1481.9 , 1097.65, 1325.33, 1237.82])"
      ]
     },
     "execution_count": 19,
     "metadata": {},
     "output_type": "execute_result"
    }
   ],
   "source": [
    "gene"
   ]
  },
  {
   "cell_type": "code",
   "execution_count": 20,
   "id": "97d54163",
   "metadata": {},
   "outputs": [
    {
     "name": "stderr",
     "output_type": "stream",
     "text": [
      "/Users/mterrefortes/miniconda3/lib/python3.10/site-packages/sklearn/cluster/_kmeans.py:870: FutureWarning:\n",
      "\n",
      "The default value of `n_init` will change from 10 to 'auto' in 1.4. Set the value of `n_init` explicitly to suppress the warning\n",
      "\n"
     ]
    },
    {
     "data": {
      "text/plain": [
       "1669.9675000000002"
      ]
     },
     "execution_count": 20,
     "metadata": {},
     "output_type": "execute_result"
    }
   ],
   "source": [
    "K_Means(gene)"
   ]
  },
  {
   "cell_type": "code",
   "execution_count": 73,
   "id": "fb8a54da",
   "metadata": {},
   "outputs": [
    {
     "name": "stderr",
     "output_type": "stream",
     "text": [
      "/Users/mterrefortes/miniconda3/lib/python3.10/site-packages/sklearn/cluster/_kmeans.py:870: FutureWarning:\n",
      "\n",
      "The default value of `n_init` will change from 10 to 'auto' in 1.4. Set the value of `n_init` explicitly to suppress the warning\n",
      "\n",
      "/Users/mterrefortes/miniconda3/lib/python3.10/site-packages/sklearn/cluster/_kmeans.py:870: FutureWarning:\n",
      "\n",
      "The default value of `n_init` will change from 10 to 'auto' in 1.4. Set the value of `n_init` explicitly to suppress the warning\n",
      "\n",
      "/Users/mterrefortes/miniconda3/lib/python3.10/site-packages/sklearn/cluster/_kmeans.py:870: FutureWarning:\n",
      "\n",
      "The default value of `n_init` will change from 10 to 'auto' in 1.4. Set the value of `n_init` explicitly to suppress the warning\n",
      "\n"
     ]
    }
   ],
   "source": [
    "binarize_vect = []\n",
    "labels = []\n",
    "\n",
    "selected_rows=[0,1,7]\n",
    "for row in selected_rows:\n",
    "            \n",
    "            selected = df.iloc[row]\n",
    "            gene = selected.values\n",
    "            sizeGene = len(gene)\n",
    "            binarize = []\n",
    "            labels.append(\"Gene \" + str(row))\n",
    "            thr = K_Means(gene)\n",
    "        \n",
    "            for j in range(sizeGene):\n",
    "                if(gene[j] <= thr):\n",
    "                   binarize.append(0) \n",
    "                else:\n",
    "                   binarize.append(1)     \n",
    "   \n",
    "            binarize_vect.append(binarize) "
   ]
  },
  {
   "cell_type": "code",
   "execution_count": 74,
   "id": "cb769046",
   "metadata": {},
   "outputs": [
    {
     "data": {
      "text/plain": [
       "[[0, 0, 1, 0, 1, 1], [1, 1, 1, 1, 0, 0], [0, 0, 1, 0, 0, 0]]"
      ]
     },
     "execution_count": 74,
     "metadata": {},
     "output_type": "execute_result"
    }
   ],
   "source": [
    "binarize_vect"
   ]
  },
  {
   "cell_type": "code",
   "execution_count": null,
   "id": "95282b0d",
   "metadata": {},
   "outputs": [],
   "source": []
  },
  {
   "cell_type": "code",
   "execution_count": null,
   "id": "e6925757",
   "metadata": {},
   "outputs": [],
   "source": []
  }
 ],
 "metadata": {
  "kernelspec": {
   "display_name": "Python 3 (ipykernel)",
   "language": "python",
   "name": "python3"
  },
  "language_info": {
   "codemirror_mode": {
    "name": "ipython",
    "version": 3
   },
   "file_extension": ".py",
   "mimetype": "text/x-python",
   "name": "python",
   "nbconvert_exporter": "python",
   "pygments_lexer": "ipython3",
   "version": "3.10.8"
  }
 },
 "nbformat": 4,
 "nbformat_minor": 5
}
